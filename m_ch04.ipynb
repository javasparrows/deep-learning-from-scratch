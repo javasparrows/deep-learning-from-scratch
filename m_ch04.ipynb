{
 "cells": [
  {
   "cell_type": "markdown",
   "metadata": {},
   "source": [
    "## 4.3.2 数値微分の例"
   ]
  },
  {
   "cell_type": "code",
   "execution_count": null,
   "metadata": {},
   "outputs": [],
   "source": [
    "def function_1(x):\n",
    "    return 0.01*x**2 + 0.1*x"
   ]
  },
  {
   "cell_type": "code",
   "execution_count": null,
   "metadata": {},
   "outputs": [],
   "source": [
    "import numpy as np\n",
    "import matplotlib.pylab as plt\n",
    "\n",
    "x = np.arange(0.0, 20.0, 0.1)\n",
    "y = function_1(x)\n",
    "plt.xlabel('x')\n",
    "plt.ylabel('f(x)')\n",
    "plt.plot(x, y)\n",
    "plt.show()"
   ]
  },
  {
   "cell_type": "code",
   "execution_count": null,
   "metadata": {},
   "outputs": [],
   "source": [
    "def numerical_diff(f, x):\n",
    "    h = 1e-4\n",
    "    return (f(x+h) - f(x-h)) / (2*h)"
   ]
  },
  {
   "cell_type": "code",
   "execution_count": null,
   "metadata": {},
   "outputs": [],
   "source": [
    "numerical_diff(function_1, 5)"
   ]
  },
  {
   "cell_type": "code",
   "execution_count": null,
   "metadata": {},
   "outputs": [],
   "source": [
    "numerical_diff(function_1, 10)"
   ]
  },
  {
   "cell_type": "code",
   "execution_count": null,
   "metadata": {},
   "outputs": [],
   "source": [
    "def function_2(x):\n",
    "    return x[0]**2 + x[1]**2"
   ]
  },
  {
   "cell_type": "code",
   "execution_count": null,
   "metadata": {},
   "outputs": [],
   "source": [
    "def function_tmp1(x0):\n",
    "    return x0*x0 + 4.0**2.0"
   ]
  },
  {
   "cell_type": "code",
   "execution_count": null,
   "metadata": {},
   "outputs": [],
   "source": [
    "numerical_diff(function_tmp1, 3.0)"
   ]
  },
  {
   "cell_type": "code",
   "execution_count": null,
   "metadata": {},
   "outputs": [],
   "source": [
    "def numerical_gradient(f, x):\n",
    "    h = 1e-4\n",
    "    grad = np.zeros_like(x)\n",
    "    \n",
    "    for idx in range(x.size):\n",
    "        tmp_val = x[idx]\n",
    "        # f(x+h)の計算\n",
    "        x[idx] = tmp_val + h\n",
    "        fxh1 = f(x)\n",
    "        \n",
    "        # f(x-h)の計算\n",
    "        x[idx] = tmp_val - h\n",
    "        fxh2 = f(x)\n",
    "        \n",
    "        grad[idx] = (fxh1 - fxh2) / (2*h)\n",
    "        x[idx] = tmp_val\n",
    "        \n",
    "\n",
    "    return grad"
   ]
  },
  {
   "cell_type": "code",
   "execution_count": null,
   "metadata": {},
   "outputs": [],
   "source": [
    "numerical_gradient(function_2, np.array([3.0,4.0]))"
   ]
  },
  {
   "cell_type": "code",
   "execution_count": null,
   "metadata": {},
   "outputs": [],
   "source": [
    "numerical_gradient(function_2, np.array([0.0,2.0]))"
   ]
  },
  {
   "cell_type": "code",
   "execution_count": null,
   "metadata": {},
   "outputs": [],
   "source": [
    "numerical_gradient(function_2, np.array([3.0,0.0]))"
   ]
  },
  {
   "cell_type": "code",
   "execution_count": null,
   "metadata": {},
   "outputs": [],
   "source": [
    "def gradient_descent(f, init_x, lr = 0.01, step_num=100):\n",
    "    x = init_x\n",
    "    \n",
    "    for i in range(step_num):\n",
    "        grad = numerical_gradient(f, x)\n",
    "        \n",
    "        x -= lr * grad\n",
    "    \n",
    "    return x"
   ]
  },
  {
   "cell_type": "code",
   "execution_count": null,
   "metadata": {},
   "outputs": [],
   "source": [
    "def function_2(x):\n",
    "    return x[0]**2 + x[1]**2"
   ]
  },
  {
   "cell_type": "code",
   "execution_count": null,
   "metadata": {},
   "outputs": [],
   "source": [
    "init_x = np.array([-3.0, 4.0])\n",
    "gradient_descent(function_2, init_x=init_x, lr = 0.1, step_num=100)"
   ]
  },
  {
   "cell_type": "code",
   "execution_count": null,
   "metadata": {},
   "outputs": [],
   "source": [
    "init_x = np.array([-3.0, 4.0])\n",
    "gradient_descent(function_2, init_x=init_x, lr = 10.0, step_num=100)"
   ]
  },
  {
   "cell_type": "code",
   "execution_count": null,
   "metadata": {},
   "outputs": [],
   "source": [
    "init_x = np.array([-3.0, 4.0])\n",
    "gradient_descent(function_2, init_x=init_x, lr = 10e-10, step_num=100)"
   ]
  },
  {
   "cell_type": "markdown",
   "metadata": {},
   "source": [
    "## 4.4.2 ニューラルネットワークに対する勾配"
   ]
  },
  {
   "cell_type": "code",
   "execution_count": null,
   "metadata": {},
   "outputs": [],
   "source": [
    "import sys, os\n",
    "sys.path.append(os.pardir)\n",
    "import numpy as np\n",
    "from common.functions import softmax, cross_entropy_error\n",
    "from common.gradient import numerical_gradient\n",
    "\n",
    "class simpleNet:\n",
    "    def __init__(self):\n",
    "        self.W = np.random.randn(2,3)\n",
    "        \n",
    "    def predict(self, x):\n",
    "        return np.dot(x, self.W)\n",
    "    \n",
    "    def loss(self, x, t):\n",
    "        z = self.predict(x)\n",
    "        y = softmax(z)\n",
    "        loss = cross_entropy_error(y, t)\n",
    "        \n",
    "        return loss"
   ]
  },
  {
   "cell_type": "code",
   "execution_count": null,
   "metadata": {},
<<<<<<< HEAD
   "outputs": [],
=======
   "outputs": [
    {
     "name": "stdout",
     "output_type": "stream",
     "text": [
      "[[ 1.32466528 -0.60007556 -0.60386757]\n",
      " [ 0.70541027 -0.61224961  0.61487819]]\n"
     ]
    }
   ],
>>>>>>> 6fc109312e6a783019bb32fd12068fdc6fbdbe10
   "source": [
    "net = simpleNet()\n",
    "print(net.W)"
   ]
  },
  {
   "cell_type": "code",
   "execution_count": null,
   "metadata": {},
<<<<<<< HEAD
   "outputs": [],
=======
   "outputs": [
    {
     "name": "stdout",
     "output_type": "stream",
     "text": [
      "[ 1.42966841 -0.91106999  0.19106983]\n"
     ]
    }
   ],
>>>>>>> 6fc109312e6a783019bb32fd12068fdc6fbdbe10
   "source": [
    "x = np.array([0.6, 0.9])\n",
    "p = net.predict(x)\n",
    "print(p)"
   ]
  },
  {
   "cell_type": "code",
   "execution_count": null,
   "metadata": {},
<<<<<<< HEAD
   "outputs": [],
=======
   "outputs": [
    {
     "data": {
      "text/plain": [
       "0"
      ]
     },
     "execution_count": 21,
     "metadata": {},
     "output_type": "execute_result"
    }
   ],
>>>>>>> 6fc109312e6a783019bb32fd12068fdc6fbdbe10
   "source": [
    "np.argmax(p)"
   ]
  },
  {
   "cell_type": "code",
   "execution_count": null,
   "metadata": {},
<<<<<<< HEAD
   "outputs": [],
=======
   "outputs": [
    {
     "data": {
      "text/plain": [
       "1.5650536149292247"
      ]
     },
     "execution_count": 22,
     "metadata": {},
     "output_type": "execute_result"
    }
   ],
>>>>>>> 6fc109312e6a783019bb32fd12068fdc6fbdbe10
   "source": [
    "t = np.array([0, 0, 1])\n",
    "net.loss(x, t)"
   ]
  },
  {
   "cell_type": "code",
   "execution_count": null,
   "metadata": {},
<<<<<<< HEAD
   "outputs": [],
=======
   "outputs": [
    {
     "name": "stdout",
     "output_type": "stream",
     "text": [
      "[[ 0.43288568  0.04166808 -0.47455375]\n",
      " [ 0.64932851  0.06250211 -0.71183063]]\n"
     ]
    }
   ],
>>>>>>> 6fc109312e6a783019bb32fd12068fdc6fbdbe10
   "source": [
    "def f(W):\n",
    "    return net.loss(x, t)\n",
    "\n",
    "dW = numerical_gradient(f, net.W)\n",
    "print(dW)"
   ]
  },
  {
   "cell_type": "code",
   "execution_count": null,
   "metadata": {},
<<<<<<< HEAD
   "outputs": [],
=======
   "outputs": [
    {
     "name": "stdout",
     "output_type": "stream",
     "text": [
      "[[ 0.43288568  0.04166808 -0.47455375]\n",
      " [ 0.64932851  0.06250211 -0.71183063]]\n"
     ]
    }
   ],
>>>>>>> 6fc109312e6a783019bb32fd12068fdc6fbdbe10
   "source": [
    "f = lambda W: net.loss(x, t)\n",
    "dW = numerical_gradient(f, net.W)\n",
    "print(dW)"
   ]
  },
  {
   "cell_type": "markdown",
   "metadata": {},
   "source": [
    "## 4.5.1 2層ニューラルネットワークのクラス"
   ]
  },
  {
   "cell_type": "code",
<<<<<<< HEAD
   "execution_count": 4,
=======
   "execution_count": 11,
>>>>>>> 276f4e8e74b89a4bf1ab6e21f1a8b3145414dfba
   "metadata": {},
   "outputs": [],
   "source": [
    "import sys,os\n",
    "sys.path.append(os.pardir)\n",
    "from common.functions import *\n",
    "from common.gradient import numerical_gradient\n",
    "\n",
    "class TwoLayerNet:\n",
    "    def __init__(self, input_size, hidden_size, output_size,\n",
    "                weight_init_std=0.01):\n",
    "        # 重みの初期化\n",
    "        self.params = {}\n",
    "        self.params['W1'] = weight_init_std * \\\n",
    "                            np.random.randn(input_size, hidden_size)\n",
    "        self.params['b1'] = np.zeros(hidden_size)\n",
    "        self.params['W2'] = weight_init_std * \\\n",
    "                            np.random.randn(hidden_size, output_size)\n",
    "        self.params['b2'] = np.zeros(output_size)\n",
    "        \n",
    "    def predict(self, x):\n",
    "        W1, W2 = self.params['W1'], self.params['W2']\n",
    "        b1, b2 = self.params['b1'], self.params['b2']\n",
    "\n",
    "        a1 = np.dot(x, W1) + b1\n",
    "        z1 = sigmoid(a1)\n",
    "        a2 = np.dot(z1, W2) + b2\n",
    "        y = softmax(a2)\n",
    "\n",
    "        return y\n",
    "\n",
    "    # x:入力データ, t:教師データ\n",
    "    def loss(self, x, t):\n",
    "        y = self.predict(x)\n",
    "\n",
    "        return cross_entropy_error(y, t)\n",
    "\n",
    "    def accuracy(self, x, t):\n",
    "        y = self.predict(x)\n",
    "        y = np.argmax(y, axis=1)\n",
    "        t = np.argmax(t, axis=1)\n",
    "\n",
    "        accuracy = np.sum(y == t) / float(x.shape[0])\n",
    "        return accuracy\n",
    "\n",
    "    # x:入力データ, t:教師データ\n",
    "    def numerical_gradient(self, x, t):\n",
    "        loss_W = lambda W: self.loss(x, t)\n",
    "\n",
    "        grads = {}\n",
    "\n",
    "        grads['W1'] = numerical_gradient(loss_W, self.params['W1'])\n",
    "        grads['b1'] = numerical_gradient(loss_W, self.params['b1'])\n",
    "        grads['W2'] = numerical_gradient(loss_W, self.params['W2'])\n",
    "        grads['b2'] = numerical_gradient(loss_W, self.params['b2'])\n",
    "\n",
    "        return grads\n",
    "    \n",
    "    def gradient(self, x, t):\n",
    "        W1, W2 = self.params['W1'], self.params['W2']\n",
    "        b1, b2 = self.params['b1'], self.params['b2']\n",
    "        grads = {}\n",
    "        \n",
    "        batch_num = x.shape[0]\n",
    "        \n",
    "        # forward\n",
    "        a1 = np.dot(x, W1) + b1\n",
    "        z1 = sigmoid(a1)\n",
    "        a2 = np.dot(z1, W2) + b2\n",
    "        y = softmax(a2)\n",
    "        \n",
    "        # backward\n",
    "        dy = (y - t) / batch_num\n",
    "        grads['W2'] = np.dot(z1.T, dy)\n",
    "        grads['b2'] = np.sum(dy, axis=0)\n",
    "        \n",
    "        dz1 = np.dot(dy, W2.T)\n",
    "        da1 = sigmoid_grad(a1) * dz1\n",
    "        grads['W1'] = np.dot(x.T, da1)\n",
    "        grads['b1'] = np.sum(da1, axis=0)\n",
    "\n",
    "        return grads"
   ]
  },
  {
   "cell_type": "code",
   "execution_count": null,
   "metadata": {},
   "outputs": [],
   "source": [
    "net = TwoLayerNet(input_size=784, hidden_size=100, output_size=10)\n",
    "print(net.params['W1'].shape)\n",
    "print(net.params['b1'].shape)\n",
    "print(net.params['W2'].shape)\n",
    "print(net.params['b2'].shape)"
   ]
  },
  {
   "cell_type": "code",
   "execution_count": null,
   "metadata": {},
   "outputs": [],
   "source": [
    "x = np.random.rand(100, 784)\n",
    "y = net.predict(x)"
   ]
  },
  {
   "cell_type": "code",
   "execution_count": null,
   "metadata": {},
   "outputs": [],
   "source": [
    "x = np.random.rand(100, 784)\n",
    "t = np.random.rand(100, 10)\n",
    "\n",
    "grads = net.numerical_gradient(x, t)\n",
    "\n",
    "print(grads['W1'].shape)\n",
    "print(grads['b1'].shape)\n",
    "print(grads['W2'].shape)\n",
    "print(grads['b2'].shape)"
   ]
  },
  {
   "cell_type": "markdown",
   "metadata": {},
   "source": [
    "## 4.5.2 ミニバッチ学習の実装"
   ]
  },
  {
   "cell_type": "code",
<<<<<<< HEAD
   "execution_count": 8,
   "metadata": {},
   "outputs": [
    {
     "name": "stdout",
     "output_type": "stream",
     "text": [
      "train acc, test acc | 0.09915, 0.1009\n",
      "train acc, test acc | 0.7823166666666667, 0.7908\n",
      "train acc, test acc | 0.8780333333333333, 0.8798\n",
      "train acc, test acc | 0.8990666666666667, 0.9013\n",
      "train acc, test acc | 0.90765, 0.9115\n",
      "train acc, test acc | 0.9147166666666666, 0.9178\n",
      "train acc, test acc | 0.9197833333333333, 0.9209\n",
      "train acc, test acc | 0.9241166666666667, 0.9246\n",
      "train acc, test acc | 0.9267333333333333, 0.9279\n",
      "train acc, test acc | 0.9297666666666666, 0.9304\n",
      "train acc, test acc | 0.9323333333333333, 0.9334\n",
      "train acc, test acc | 0.9355166666666667, 0.9357\n",
      "train acc, test acc | 0.9377666666666666, 0.938\n",
      "train acc, test acc | 0.9406833333333333, 0.9395\n",
      "train acc, test acc | 0.9423833333333334, 0.9417\n",
      "train acc, test acc | 0.9442166666666667, 0.9446\n",
      "train acc, test acc | 0.9467666666666666, 0.9452\n",
      "CPU times: user 7min 41s, sys: 14min 4s, total: 21min 45s\n",
      "Wall time: 58 s\n"
     ]
    }
   ],
=======
<<<<<<< HEAD
   "execution_count": 32,
   "metadata": {},
   "outputs": [
    {
     "name": "stdout",
     "output_type": "stream",
     "text": [
      "train acc, test acc | 0.10218333333333333, 0.101\n",
      "train acc, test acc | 0.7912666666666667, 0.7955\n",
      "train acc, test acc | 0.8772, 0.8812\n",
      "train acc, test acc | 0.89765, 0.9028\n",
      "train acc, test acc | 0.9076333333333333, 0.9129\n",
      "train acc, test acc | 0.9155333333333333, 0.9184\n",
      "train acc, test acc | 0.9199333333333334, 0.9214\n",
      "train acc, test acc | 0.9249, 0.9265\n",
      "train acc, test acc | 0.9272166666666667, 0.9296\n",
      "train acc, test acc | 0.9305, 0.9326\n",
      "train acc, test acc | 0.93375, 0.9341\n",
      "train acc, test acc | 0.9358166666666666, 0.9363\n",
      "train acc, test acc | 0.93815, 0.9373\n",
      "train acc, test acc | 0.93965, 0.9391\n",
      "train acc, test acc | 0.94175, 0.9411\n",
      "train acc, test acc | 0.9438833333333333, 0.9434\n",
      "train acc, test acc | 0.946, 0.9439\n",
      "CPU times: user 53.8 s, sys: 3.21 s, total: 57 s\n",
      "Wall time: 14.8 s\n"
     ]
    }
   ],
=======
   "execution_count": null,
   "metadata": {},
   "outputs": [],
>>>>>>> 6fc109312e6a783019bb32fd12068fdc6fbdbe10
>>>>>>> 276f4e8e74b89a4bf1ab6e21f1a8b3145414dfba
   "source": [
    "%%time\n",
    "import numpy as np\n",
    "from dataset.mnist import load_mnist\n",
    "#from two_layer_net import TwoLayerNet\n",
    "\n",
    "(x_train, t_train), (x_test, t_test) =\\\n",
    "    load_mnist(normalize=True, one_hot_label=True)\n",
    "\n",
    "# ハイパーパラメータ\n",
    "iters_num = 10000\n",
    "train_size = x_train.shape[0]\n",
    "batch_size = 100\n",
    "learning_rate = 0.1\n",
    "\n",
    "train_loss_list = []\n",
    "train_acc_list = []\n",
    "test_acc_list = []\n",
    "# 1エポックあたりの繰り返し数\n",
    "iter_per_epoch = max(train_size / batch_size, 1)\n",
    "\n",
    "network = TwoLayerNet(input_size=784, hidden_size=50, output_size=10)\n",
    "\n",
    "for i in range(iters_num):\n",
    "    # ミニバッチの取得\n",
    "    batch_mask = np.random.choice(train_size, batch_size)\n",
    "    x_batch = x_train[batch_mask]\n",
    "    t_batch = t_train[batch_mask]\n",
    "    \n",
    "    # 勾配の計算\n",
    "    #grad = network.numerical_gradient(x_batch, t_batch)\n",
    "    grad = network.gradient(x_batch, t_batch) # 高速版!\n",
    "    \n",
    "    # パラメータの更新\n",
    "    for key in ('W1', 'b1', 'W2', 'b2'):\n",
    "        network.params[key] -= learning_rate * grad[key]\n",
    "    \n",
    "    # 学習経過の記録\n",
    "    loss = network.loss(x_batch, t_batch)\n",
    "    train_loss_list.append(loss)\n",
    "    \n",
    "    # 1エポックごとに認識精度を計算\n",
    "    if i % iter_per_epoch == 0:\n",
    "        train_acc = network.accuracy(x_train, t_train)\n",
    "        test_acc = network.accuracy(x_test, t_test)\n",
    "        train_acc_list.append(train_acc)\n",
    "        test_acc_list.append(test_acc)\n",
<<<<<<< HEAD
    "        print('train acc, test acc | ' + str(train_acc) + ', ' + str(test_acc))"
=======
    "        print(\"train acc, test acc | \" + str(train_acc) + \", \" + str(test_acc))"
>>>>>>> 276f4e8e74b89a4bf1ab6e21f1a8b3145414dfba
   ]
  },
  {
   "cell_type": "code",
<<<<<<< HEAD
   "execution_count": 6,
   "metadata": {},
   "outputs": [
    {
     "data": {
      "text/plain": [
       "10000"
      ]
     },
     "execution_count": 6,
     "metadata": {},
     "output_type": "execute_result"
    }
   ],
   "source": [
    "len(train_loss_list)"
=======
<<<<<<< HEAD
   "execution_count": 33,
   "metadata": {},
   "outputs": [
    {
     "data": {
      "image/png": "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\n",
      "text/plain": [
       "<Figure size 432x288 with 1 Axes>"
      ]
     },
     "metadata": {
      "needs_background": "light"
     },
     "output_type": "display_data"
    }
   ],
=======
   "execution_count": null,
   "metadata": {},
   "outputs": [],
>>>>>>> 6fc109312e6a783019bb32fd12068fdc6fbdbe10
   "source": [
    "# グラフの描画\n",
    "markers = {'train': 'o', 'test': 's'}\n",
    "x = np.arange(len(train_acc_list))\n",
    "plt.plot(x, train_acc_list, label='train acc')\n",
    "plt.plot(x, test_acc_list, label='test acc', linestyle='--')\n",
    "plt.xlabel(\"epochs\")\n",
    "plt.ylabel(\"accuracy\")\n",
    "plt.ylim(0, 1.0)\n",
    "plt.legend(loc='lower right')\n",
    "plt.savefig('fig4-11')\n",
    "plt.show()"
>>>>>>> 276f4e8e74b89a4bf1ab6e21f1a8b3145414dfba
   ]
  },
  {
   "cell_type": "code",
   "execution_count": null,
   "metadata": {},
   "outputs": [],
   "source": []
  }
 ],
 "metadata": {
  "kernelspec": {
   "display_name": "Python 3",
   "language": "python",
   "name": "python3"
  },
  "language_info": {
   "codemirror_mode": {
    "name": "ipython",
    "version": 3
   },
   "file_extension": ".py",
   "mimetype": "text/x-python",
   "name": "python",
   "nbconvert_exporter": "python",
   "pygments_lexer": "ipython3",
   "version": "3.7.3"
  }
 },
 "nbformat": 4,
 "nbformat_minor": 4
}
